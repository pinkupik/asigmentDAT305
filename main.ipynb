{
 "cells": [
  {
   "cell_type": "code",
   "execution_count": 39,
   "id": "223319de",
   "metadata": {},
   "outputs": [],
   "source": [
    "#https://www.youtube.com/watch?v=zxD-v3ve-bk\n",
    "import numpy as np\n",
    "import matplotlib.pyplot as plt\n",
    "import torch\n",
    "import torch.nn as nn\n",
    "import torch.optim as optim\n",
    "import torch.nn.functional as F\n",
    "from torch.optim.lr_scheduler import ReduceLROnPlateau\n",
    "import torchvision\n",
    "import torchvision.datasets as datasets\n",
    "import torchvision.transforms as transforms\n",
    "import splitfolders\n",
    "import os"
   ]
  },
  {
   "cell_type": "code",
   "execution_count": 40,
   "id": "0c499665",
   "metadata": {},
   "outputs": [],
   "source": [
    "splitfolders.ratio('data', output=\"data_split\", seed=42, ratio=(.8, 0.1,0.1)) # default values"
   ]
  },
  {
   "cell_type": "code",
   "execution_count": 41,
   "id": "d5d940a3",
   "metadata": {},
   "outputs": [],
   "source": [
    "transform = transforms.Compose([transforms.Resize((128, 128)),\n",
    "                                transforms.ToTensor(),\n",
    "                                transforms.Normalize(mean=[0.485, 0.456, 0.406], std=[0.229, 0.224, 0.225]),\n",
    "                                transforms.RandomHorizontalFlip(),\n",
    "                                transforms.RandomVerticalFlip(),\n",
    "                                transforms.RandomRotation(30)\n",
    "                                ])"
   ]
  },
  {
   "cell_type": "code",
   "execution_count": 42,
   "id": "6ec125e0",
   "metadata": {},
   "outputs": [],
   "source": [
    "train_data = datasets.ImageFolder(root=os.path.join(\"data_split\", \"train\"), transform=transform)\n",
    "train_loader = torch.utils.data.DataLoader(train_data, batch_size=8, shuffle=True)\n",
    "\n",
    "val_data = datasets.ImageFolder(root=os.path.join(\"data_split\", \"val\"), transform=transform)\n",
    "val_loader = torch.utils.data.DataLoader(val_data, batch_size=8, shuffle=True)"
   ]
  },
  {
   "cell_type": "code",
   "execution_count": 43,
   "id": "bf2fee21",
   "metadata": {},
   "outputs": [
    {
     "name": "stdout",
     "output_type": "stream",
     "text": [
      "Dataset ImageFolder\n",
      "    Number of datapoints: 202\n",
      "    Root location: data_split/train\n",
      "    StandardTransform\n",
      "Transform: Compose(\n",
      "               Resize(size=(128, 128), interpolation=bilinear, max_size=None, antialias=True)\n",
      "               ToTensor()\n",
      "               Normalize(mean=[0.485, 0.456, 0.406], std=[0.229, 0.224, 0.225])\n",
      "               RandomHorizontalFlip(p=0.5)\n",
      "               RandomVerticalFlip(p=0.5)\n",
      "               RandomRotation(degrees=[-30.0, 30.0], interpolation=nearest, expand=False, fill=0)\n",
      "           )\n"
     ]
    }
   ],
   "source": [
    "print(train_data)"
   ]
  },
  {
   "cell_type": "code",
   "execution_count": 44,
   "id": "f7a42963",
   "metadata": {},
   "outputs": [],
   "source": [
    "class CNNModel(nn.Module):\n",
    "    def __init__(self, num_classes):\n",
    "        super(CNNModel, self).__init__()\n",
    "        self.conv1 = nn.Conv2d(in_channels=3, out_channels=16, kernel_size=5, stride=1, padding=0)\n",
    "        self.pool1 = nn.MaxPool2d(kernel_size=2)\n",
    "        self.conv2 = nn.Conv2d(in_channels=16, out_channels=32, kernel_size=5, stride=1, padding=0)\n",
    "        self.pool2 = nn.MaxPool2d(kernel_size=2)\n",
    "        self.conv3 = nn.Conv2d(in_channels=32, out_channels=64, kernel_size=5, stride=1, padding=0)\n",
    "        self.pool3 = nn.MaxPool2d(kernel_size=2)\n",
    "        self.conv4 = nn.Conv2d(in_channels=64, out_channels=128, kernel_size=5, stride=1, padding=0)\n",
    "        self.pool4 = nn.MaxPool2d(kernel_size=2)\n",
    "        self.leaky_relu = nn.LeakyReLU()\n",
    "        self.fc1 = nn.Linear(128 * 4 * 4, 1024)\n",
    "        self.fc2 = nn.Linear(1024, 2)\n",
    "\n",
    "    def forward(self, x):\n",
    "        x = self.pool1(self.leaky_relu(self.conv1(x)))\n",
    "        x = self.pool2(self.leaky_relu(self.conv2(x)))\n",
    "        x = self.pool3(self.leaky_relu(self.conv3(x)))\n",
    "        x = self.pool4(self.leaky_relu(self.conv4(x)))\n",
    "        x = x.view(x.size(0), -1)\n",
    "        x = self.leaky_relu(self.fc1(x))\n",
    "        x = self.fc2(x)\n",
    "        return x"
   ]
  },
  {
   "cell_type": "code",
   "execution_count": 45,
   "id": "f968178d",
   "metadata": {},
   "outputs": [],
   "source": [
    "num_epochs = 50\n",
    "model = CNNModel(num_classes=len(train_data.classes))\n",
    "error = nn.CrossEntropyLoss()\n",
    "\n",
    "optimizer = optim.Adam(model.parameters(), lr=0.001)\n",
    "scheduler = ReduceLROnPlateau(optimizer, mode='min', factor=0.5, patience=5)"
   ]
  },
  {
   "cell_type": "code",
   "execution_count": 46,
   "id": "801cb5ba",
   "metadata": {},
   "outputs": [
    {
     "name": "stdout",
     "output_type": "stream",
     "text": [
      "Epoch [1/50], Train Loss: 0.6875, Val Loss: 0.6359, Accuracy: 62.50%\n",
      "Epoch [2/50], Train Loss: 0.6427, Val Loss: 0.5695, Accuracy: 62.50%\n",
      "Epoch [3/50], Train Loss: 0.6117, Val Loss: 0.6045, Accuracy: 62.50%\n",
      "Epoch [4/50], Train Loss: 0.5830, Val Loss: 0.4961, Accuracy: 79.17%\n",
      "Epoch [5/50], Train Loss: 0.4662, Val Loss: 0.4056, Accuracy: 79.17%\n",
      "Epoch [6/50], Train Loss: 0.4782, Val Loss: 0.3256, Accuracy: 95.83%\n",
      "Epoch [7/50], Train Loss: 0.5114, Val Loss: 0.3065, Accuracy: 95.83%\n",
      "Epoch [8/50], Train Loss: 0.4487, Val Loss: 0.2507, Accuracy: 91.67%\n",
      "Epoch [9/50], Train Loss: 0.4659, Val Loss: 0.3151, Accuracy: 87.50%\n",
      "Epoch [10/50], Train Loss: 0.3702, Val Loss: 0.2623, Accuracy: 91.67%\n",
      "Epoch [11/50], Train Loss: 0.3845, Val Loss: 0.2511, Accuracy: 95.83%\n",
      "Epoch [12/50], Train Loss: 0.3796, Val Loss: 0.4137, Accuracy: 83.33%\n",
      "Epoch [13/50], Train Loss: 0.3583, Val Loss: 0.3197, Accuracy: 79.17%\n",
      "Epoch [14/50], Train Loss: 0.3139, Val Loss: 0.3784, Accuracy: 79.17%\n",
      "Epoch [15/50], Train Loss: 0.2835, Val Loss: 0.1586, Accuracy: 91.67%\n",
      "Epoch [16/50], Train Loss: 0.2293, Val Loss: 0.1740, Accuracy: 87.50%\n",
      "Epoch [17/50], Train Loss: 0.2270, Val Loss: 0.5454, Accuracy: 87.50%\n",
      "Epoch [18/50], Train Loss: 0.2046, Val Loss: 0.4129, Accuracy: 87.50%\n",
      "Epoch [19/50], Train Loss: 0.1592, Val Loss: 0.3785, Accuracy: 83.33%\n",
      "Epoch [20/50], Train Loss: 0.1866, Val Loss: 0.5665, Accuracy: 87.50%\n",
      "Epoch [21/50], Train Loss: 0.1003, Val Loss: 0.3836, Accuracy: 83.33%\n",
      "Epoch [22/50], Train Loss: 0.1348, Val Loss: 0.1892, Accuracy: 91.67%\n",
      "Epoch [23/50], Train Loss: 0.1438, Val Loss: 0.5389, Accuracy: 83.33%\n",
      "Epoch [24/50], Train Loss: 0.0936, Val Loss: 0.4007, Accuracy: 87.50%\n",
      "Epoch [25/50], Train Loss: 0.0849, Val Loss: 0.4665, Accuracy: 91.67%\n",
      "Epoch [26/50], Train Loss: 0.1282, Val Loss: 0.3732, Accuracy: 79.17%\n",
      "Epoch [27/50], Train Loss: 0.0788, Val Loss: 0.2558, Accuracy: 91.67%\n",
      "Epoch [28/50], Train Loss: 0.0756, Val Loss: 0.6421, Accuracy: 83.33%\n",
      "Epoch [29/50], Train Loss: 0.0557, Val Loss: 0.2171, Accuracy: 87.50%\n",
      "Epoch [30/50], Train Loss: 0.0407, Val Loss: 0.3296, Accuracy: 75.00%\n",
      "Epoch [31/50], Train Loss: 0.0375, Val Loss: 0.1619, Accuracy: 87.50%\n",
      "Epoch [32/50], Train Loss: 0.0348, Val Loss: 0.3025, Accuracy: 87.50%\n",
      "Epoch [33/50], Train Loss: 0.0336, Val Loss: 0.2831, Accuracy: 91.67%\n",
      "Epoch [34/50], Train Loss: 0.0264, Val Loss: 0.3114, Accuracy: 91.67%\n",
      "Epoch [35/50], Train Loss: 0.0542, Val Loss: 0.4785, Accuracy: 83.33%\n",
      "Epoch [36/50], Train Loss: 0.0298, Val Loss: 0.4002, Accuracy: 79.17%\n",
      "Epoch [37/50], Train Loss: 0.0261, Val Loss: 0.3020, Accuracy: 87.50%\n",
      "Epoch [38/50], Train Loss: 0.0442, Val Loss: 0.1149, Accuracy: 91.67%\n",
      "Epoch [39/50], Train Loss: 0.0201, Val Loss: 0.9053, Accuracy: 83.33%\n",
      "Epoch [40/50], Train Loss: 0.0381, Val Loss: 0.2288, Accuracy: 87.50%\n",
      "Epoch [41/50], Train Loss: 0.0299, Val Loss: 0.2790, Accuracy: 91.67%\n",
      "Epoch [42/50], Train Loss: 0.0171, Val Loss: 0.3172, Accuracy: 87.50%\n",
      "Epoch [43/50], Train Loss: 0.0164, Val Loss: 0.1425, Accuracy: 91.67%\n",
      "Epoch [44/50], Train Loss: 0.0337, Val Loss: 0.3417, Accuracy: 83.33%\n",
      "Epoch [45/50], Train Loss: 0.0185, Val Loss: 0.8902, Accuracy: 83.33%\n",
      "Epoch [46/50], Train Loss: 0.0149, Val Loss: 0.1155, Accuracy: 91.67%\n",
      "Epoch [47/50], Train Loss: 0.0232, Val Loss: 0.1784, Accuracy: 91.67%\n",
      "Epoch [48/50], Train Loss: 0.0157, Val Loss: 0.5658, Accuracy: 87.50%\n",
      "Epoch [49/50], Train Loss: 0.0193, Val Loss: 0.1633, Accuracy: 91.67%\n",
      "Epoch [50/50], Train Loss: 0.0169, Val Loss: 0.2765, Accuracy: 87.50%\n"
     ]
    }
   ],
   "source": [
    "train_loss_list = []\n",
    "val_loss_list = []\n",
    "accuracy_list = []\n",
    "\n",
    "for epoch in range(num_epochs):\n",
    "    model.train()\n",
    "    running_loss = 0.0\n",
    "    for images, labels in train_loader:\n",
    "        optimizer.zero_grad()\n",
    "        outputs = model(images)\n",
    "        loss = error(outputs, labels)\n",
    "        loss.backward()\n",
    "        optimizer.step()\n",
    "        running_loss += loss.item()\n",
    "    train_loss = running_loss / len(train_loader)\n",
    "    train_loss_list.append(train_loss)\n",
    "\n",
    "    model.eval()\n",
    "    val_running_loss = 0.0\n",
    "    correct = 0\n",
    "    total = 0\n",
    "    with torch.no_grad():\n",
    "        for images, labels in val_loader:\n",
    "            outputs = model(images)\n",
    "            loss = error(outputs, labels)\n",
    "            val_running_loss += loss.item()\n",
    "            _, predicted = torch.max(outputs.data, 1)\n",
    "            total += labels.size(0)\n",
    "            correct += (predicted == labels).sum().item()\n",
    "    val_loss = val_running_loss / len(val_loader)\n",
    "    val_loss_list.append(val_loss)\n",
    "    accuracy = 100 * correct / total\n",
    "    accuracy_list.append(accuracy)  \n",
    "\n",
    "    scheduler.step(val_loss)\n",
    "\n",
    "    print(f'Epoch [{epoch+1}/{num_epochs}], Train Loss: {train_loss:.4f}, Val Loss: {val_loss:.4f}, Accuracy: {accuracy:.2f}%')"
   ]
  },
  {
   "cell_type": "code",
   "execution_count": 47,
   "id": "810e4a19",
   "metadata": {},
   "outputs": [
    {
     "name": "stdout",
     "output_type": "stream",
     "text": [
      "Test Loss: 0.2238, Test Accuracy: 92.59%\n"
     ]
    }
   ],
   "source": [
    "# Testing the model on test data\n",
    "test_data = datasets.ImageFolder(root=os.path.join(\"data_split\", \"test\"), transform=transform)\n",
    "test_loader = torch.utils.data.DataLoader(test_data, batch_size=8, shuffle=False)\n",
    "\n",
    "model.eval()\n",
    "test_running_loss = 0.0\n",
    "correct = 0\n",
    "total = 0\n",
    "with torch.no_grad():\n",
    "    for images, labels in test_loader:\n",
    "        outputs = model(images)\n",
    "        loss = error(outputs, labels)\n",
    "        test_running_loss += loss.item()\n",
    "        _, predicted = torch.max(outputs.data, 1)\n",
    "        total += labels.size(0)\n",
    "        correct += (predicted == labels).sum().item()\n",
    "test_loss = test_running_loss / len(test_loader)\n",
    "test_accuracy = 100 * correct / total\n",
    "\n",
    "print(f'Test Loss: {test_loss:.4f}, Test Accuracy: {test_accuracy:.2f}%')"
   ]
  }
 ],
 "metadata": {
  "kernelspec": {
   "display_name": "asigmentdat305",
   "language": "python",
   "name": "python3"
  },
  "language_info": {
   "codemirror_mode": {
    "name": "ipython",
    "version": 3
   },
   "file_extension": ".py",
   "mimetype": "text/x-python",
   "name": "python",
   "nbconvert_exporter": "python",
   "pygments_lexer": "ipython3",
   "version": "3.13.2"
  }
 },
 "nbformat": 4,
 "nbformat_minor": 5
}
